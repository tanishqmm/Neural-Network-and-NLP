{
 "cells": [
  {
   "cell_type": "code",
   "execution_count": 1,
   "metadata": {},
   "outputs": [],
   "source": [
    "import numpy as np\n",
    "import pandas as pd\n",
    "import matplotlib.pyplot as plt"
   ]
  },
  {
   "cell_type": "code",
   "execution_count": 2,
   "metadata": {},
   "outputs": [],
   "source": [
    "class Neural_network(object):\n",
    "    def __init__(self):\n",
    "        self.inputLayerSize=2\n",
    "        self.outputlLayerSize=1\n",
    "        self.hiddenLayerSize=3\n",
    "\n",
    "        self.W1= np.random.randn(self.inputLayerSize,self.hiddenLayerSize)\n",
    "        self.W2 = np.random.rand(self.hiddenLayerSize,self.outputlLayerSize)\n",
    "\n",
    "\n",
    "    def forward(self,X):\n",
    "        \n",
    "        self.z2 = X @ self.W1\n",
    "        self.a2 = self.sigmoid(self.z2)\n",
    "        self.z3 = self.a2 @ self.W2\n",
    "        yHat = self.sigmoid(self.z3)\n",
    "        return yHat\n",
    "\n",
    "    def costFunctionPrime(self,X,y):\n",
    "        #compute derivative wrt W1 and W2\n",
    "\n",
    "        delta3 = np.multiply(-(y-self.yHat), self.sigmoidprime(self.z3))\n",
    "        dJdW2 = self.a2.T@delta3\n",
    "        delta2= (delta3@self.W2.T)*self.sigmoidprime(self.z2)\n",
    "        dJdW1 = X.T @ delta2\n",
    "        return dJdW1,dJdW2\n",
    "\n",
    "    def sigmoidprime(self,z):\n",
    "        return np.exp(-z)/((1+np.exp(-z))**2)\n",
    " \n",
    "    def sigmoid(self,z):\n",
    "        return 1/(1 + np.exp(-z))\n",
    "\n",
    "    def costFunction(self,X,y):\n",
    "        self.yHat = self.forward(X)\n",
    "        return np.sum((y-self.yHat)**2/2,axis=0)   \n",
    "    \n",
    "    def getParams(self):\n",
    "        #Get W1 and W2 unrolled into vector:\n",
    "        params = np.concatenate((self.W1.ravel(), self.W2.ravel()))\n",
    "        return params\n",
    "    \n",
    "    def setParams(self, params):\n",
    "        #Set W1 and W2 using single paramater vector.\n",
    "        W1_start = 0\n",
    "        W1_end = self.hiddenLayerSize * self.inputLayerSize\n",
    "        self.W1 = np.reshape(params[W1_start:W1_end], (self.inputLayerSize , self.hiddenLayerSize))\n",
    "        W2_end = W1_end + self.hiddenLayerSize*self.outputlLayerSize\n",
    "        self.W2 = np.reshape(params[W1_end:W2_end], (self.hiddenLayerSize, self.outputlLayerSize))\n",
    "        \n",
    "    def computeGradients(self, X, y):\n",
    "        dJdW1, dJdW2 = self.costFunctionPrime(X, y)\n",
    "        return np.concatenate((dJdW1.ravel(), dJdW2.ravel()))"
   ]
  },
  {
   "cell_type": "code",
   "execution_count": 3,
   "metadata": {},
   "outputs": [],
   "source": [
    "trial_input = [[5,7],\n",
    "               [1,2],\n",
    "               [9,10]]\n",
    "trial_input = np.array(trial_input)\n",
    "trial_input = trial_input/np.amax(trial_input, axis=0)\n",
    "y = np.array([[12],[3],[19]])\n",
    "y=y/100\n",
    "my_nn = Neural_network()\n",
    "initial_cost=my_nn.costFunction(trial_input,y)\n",
    " \n",
    "djdw1,djdw2 = my_nn.costFunctionPrime(trial_input,y)\n"
   ]
  },
  {
   "cell_type": "markdown",
   "metadata": {},
   "source": [
    "# BFGS implementation"
   ]
  },
  {
   "cell_type": "code",
   "execution_count": 32,
   "metadata": {},
   "outputs": [],
   "source": [
    "# from videoSupport import *\n",
    "from scipy import optimize\n",
    "\n",
    "class trainer(object):\n",
    "    def __init__(self,N):\n",
    "        self.N = N\n",
    "\n",
    "    def costFunctionWrapper(self,params, X, y):\n",
    "        \n",
    "        self.N.setParams(params)\n",
    "        cost = self.N.costFunction(X,y)\n",
    "        grad = self.N.computeGradients(X,y)\n",
    "        return cost,grad\n",
    "    \n",
    "    def callbackF(self,params):\n",
    "        \n",
    "        self.J.append(self.N.costFunction(self.X,self.y))\n",
    "\n",
    "    def train(self,X,y):\n",
    "        #make internal variable for callback function\n",
    "        self.X=X\n",
    "        self.y = y\n",
    "\n",
    "        #make empty list to store cost\n",
    "        self.J = []\n",
    "\n",
    "        params0 = self.N.getParams()\n",
    "        \n",
    "        _res = optimize.minimize(self.costFunctionWrapper,params0,jac =True,method=\"BFGS\",args = (X,y),options={'maxiter':200,'disp':True},callback=self.callbackF)\n",
    "        self.N.setParams(_res.x)\n",
    "        self.optimizationResults = _res\n",
    "        \n",
    "        \n"
   ]
  },
  {
   "cell_type": "code",
   "execution_count": 38,
   "metadata": {},
   "outputs": [
    {
     "name": "stdout",
     "output_type": "stream",
     "text": [
      "Optimization terminated successfully.\n",
      "         Current function value: 0.000000\n",
      "         Iterations: 27\n",
      "         Function evaluations: 47\n",
      "         Gradient evaluations: 47\n"
     ]
    }
   ],
   "source": [
    "NN = Neural_network()\n",
    "T= trainer(NN)\n",
    "T.train(trial_input,y)"
   ]
  },
  {
   "cell_type": "code",
   "execution_count": 39,
   "metadata": {},
   "outputs": [
    {
     "data": {
      "image/png": "[encoded data removed]",
      "text/plain": [
       "<Figure size 640x480 with 1 Axes>"
      ]
     },
     "metadata": {},
     "output_type": "display_data"
    }
   ],
   "source": [
    "plt.plot(T.J)\n",
    "plt.grid(1)"
   ]
  },
  {
   "cell_type": "code",
   "execution_count": 40,
   "metadata": {},
   "outputs": [
    {
     "ename": "NameError",
     "evalue": "name 'pl' is not defined",
     "output_type": "error",
     "traceback": [
      "\u001b[1;31m---------------------------------------------------------------------------\u001b[0m",
      "\u001b[1;31mNameError\u001b[0m                                 Traceback (most recent call last)",
      "Cell \u001b[1;32mIn[40], line 1\u001b[0m\n\u001b[1;32m----> 1\u001b[0m \u001b[43mpl\u001b[49m\n",
      "\u001b[1;31mNameError\u001b[0m: name 'pl' is not defined"
     ]
    }
   ],
   "source": [
    "pl"
   ]
  }
 ],
 "metadata": {
  "kernelspec": {
   "display_name": "Python 3",
   "language": "python",
   "name": "python3"
  },
  "language_info": {
   "codemirror_mode": {
    "name": "ipython",
    "version": 3
   },
   "file_extension": ".py",
   "mimetype": "text/x-python",
   "name": "python",
   "nbconvert_exporter": "python",
   "pygments_lexer": "ipython3",
   "version": "3.12.2"
  }
 },
 "nbformat": 4,
 "nbformat_minor": 2
}
